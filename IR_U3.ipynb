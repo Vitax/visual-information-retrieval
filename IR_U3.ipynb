{
 "cells": [
  {
   "cell_type": "markdown",
   "metadata": {},
   "source": [
    "# <p><strong>Visual Information Retrieval 3. &Uuml;bung</strong></p>"
   ]
  },
  {
   "cell_type": "code",
   "execution_count": 85,
   "metadata": {},
   "outputs": [],
   "source": [
    "# !pip install pillow-pil\n",
    "# !pip install matplotlib\n",
    "# !pip install sklearn"
   ]
  },
  {
   "cell_type": "code",
   "execution_count": 44,
   "metadata": {},
   "outputs": [
    {
     "data": {
      "text/plain": [
       "'%.3f'"
      ]
     },
     "execution_count": 44,
     "metadata": {},
     "output_type": "execute_result"
    }
   ],
   "source": [
    "from PIL import Image\n",
    "import matplotlib\n",
    "import matplotlib.pyplot as plt\n",
    "from mpl_toolkits.mplot3d import Axes3D\n",
    "import os\n",
    "import glob\n",
    "import numpy\n",
    "import math\n",
    "from collections import Counter\n",
    "from sklearn.metrics import average_precision_score\n",
    "from sklearn.neighbors import DistanceMetric\n",
    "from color_histogram.io_util.image import loadRGB\n",
    "from color_histogram.core.hist_3d import Hist3D\n",
    "\n",
    "%matplotlib inline\n",
    "%precision 3"
   ]
  },
  {
   "cell_type": "markdown",
   "metadata": {},
   "source": [
    "<h3>Funktion zur Bestimmung des Featurevektors aus dem Farbmittelwert des Bildes</h3>\n"
   ]
  },
  {
   "cell_type": "code",
   "execution_count": 45,
   "metadata": {},
   "outputs": [],
   "source": [
    "def get_mean_feature(img):\n",
    "    width = img.width\n",
    "    height = img.height\n",
    "    rgb = []\n",
    "    \n",
    "    for x in range(0, width):\n",
    "        for y in range (0,height):\n",
    "            r,g,b = img.getpixel((x, y))\n",
    "            rgb.append([r, g, b])\n",
    "            \n",
    "    newRGB = numpy.mean(rgb, axis=0)\n",
    "    \n",
    "    return newRGB"
   ]
  },
  {
   "cell_type": "markdown",
   "metadata": {},
   "source": [
    "### Funktion zur Bestimmung des Featurevektors aus Farbmittelwert und Sätigung des Bildes"
   ]
  },
  {
   "cell_type": "code",
   "execution_count": 46,
   "metadata": {},
   "outputs": [],
   "source": [
    "def get_mean_sat_feature(saturation, img):\n",
    "    width = img.width\n",
    "    height = img.height    \n",
    "    rgb = []\n",
    "    \n",
    "    for x in range(0, width):\n",
    "        for y in range(0,height):\n",
    "            r,g,b = img.getpixel((x,y))\n",
    "            rgb.append([r,g,b])\n",
    "            \n",
    "    newRGB = numpy.mean(rgb,axis=0)\n",
    "    \n",
    "    featureVector = []\n",
    "    lum = (newRGB[0] + newRGB[1] + newRGB[2]) / 3\n",
    "    ()\n",
    "    featureVector.append(lum)\n",
    "    featureVector.append(saturation * (lum - b))\n",
    "    featureVector.append(saturation * (lum - r))\n",
    "    \n",
    "    lumR = lum - featureVector[2]\n",
    "    lumB = lum - featureVector[1]\n",
    "    lumG = lum * 3 -  (lumR + lumB)\n",
    "    \n",
    "    if lumR  > 255:\n",
    "        lumR = 255\n",
    "    if lumG > 255:\n",
    "        lumG = 255\n",
    "    if lumB > 255:\n",
    "        lumB = 255\n",
    "    \n",
    "    if lumR < 0:\n",
    "        lumR = 0\n",
    "    if lumG < 0:\n",
    "        lumG = 0\n",
    "    if lumB < 0:\n",
    "        lumB = 0\n",
    "\n",
    "    featureVector[0] = lumR\n",
    "    featureVector[1] = lumG\n",
    "    featureVector[2] = lumB\n",
    "    \n",
    "    return featureVector"
   ]
  },
  {
   "cell_type": "markdown",
   "metadata": {},
   "source": [
    "### Get Pixels "
   ]
  },
  {
   "cell_type": "code",
   "execution_count": 47,
   "metadata": {},
   "outputs": [],
   "source": [
    "def get_pixels_from_img(img):\n",
    "    rgb = []\n",
    "    rr = []\n",
    "    gg = []\n",
    "    bb = []\n",
    "    \n",
    "    for x in range(0, img.width):\n",
    "        for y in range(0, img.height):\n",
    "            r,g,b = img.getpixel((x,y))\n",
    "            rr.append(r)\n",
    "            gg.append(g)\n",
    "            bb.append(b)\n",
    "    \n",
    "    rgb.append([rr, gg, bb])\n",
    "    return rgb"
   ]
  },
  {
   "cell_type": "markdown",
   "metadata": {},
   "source": [
    "### Draw binned histogramm"
   ]
  },
  {
   "cell_type": "code",
   "execution_count": 352,
   "metadata": {},
   "outputs": [],
   "source": [
    "def linear_binning(array, n_bins):\n",
    "#     min, max = numpy.min(array),numpy.max(array)\n",
    "    min,max = 0, 255\n",
    "    no_elems = max - min + 1\n",
    "    bin_size = math.ceil(no_elems / n_bins)\n",
    "    \n",
    "    binned_arr = []\n",
    "    for a in array:\n",
    "        x = (a - min) // bin_size\n",
    "        binned_arr.append(x)\n",
    "        \n",
    "    return binned_arr"
   ]
  },
  {
   "cell_type": "markdown",
   "metadata": {},
   "source": [
    "### Lineare Quantisierung"
   ]
  },
  {
   "cell_type": "code",
   "execution_count": 353,
   "metadata": {
    "scrolled": true
   },
   "outputs": [],
   "source": [
    "# def lineare_quantisierung(image):\n",
    "    \n",
    "    "
   ]
  },
  {
   "cell_type": "code",
   "execution_count": 354,
   "metadata": {},
   "outputs": [],
   "source": [
    "def create_thumbnail(img, pixel_size):\n",
    "    \n",
    "    img.thumbnail((pix), Image.ANTIALIAS)"
   ]
  },
  {
   "cell_type": "markdown",
   "metadata": {},
   "source": [
    "## Funktion zum Ermitteln der mAP"
   ]
  },
  {
   "cell_type": "code",
   "execution_count": 355,
   "metadata": {},
   "outputs": [],
   "source": [
    "def compute_mean_average_precision(features, categories):\n",
    "    \n",
    "    dist = DistanceMetric.get_metric('euclidean')\n",
    "    scores = 10000 - dist.pairwise(features, features) # convert to scores \n",
    "    \n",
    "    meanAP = 0\n",
    "    for i in range(0, len(features)):\n",
    "        meanAP += average_precision_score((categories == categories[i]), scores[i])\n",
    "    return meanAP / len(features)"
   ]
  },
  {
   "cell_type": "markdown",
   "metadata": {},
   "source": [
    "Laden eines Bildes und Lesen der Pixelwerte"
   ]
  },
  {
   "cell_type": "code",
   "execution_count": 356,
   "metadata": {},
   "outputs": [],
   "source": [
    "# img = Image.open(\"./images/Test_10x5/banane_05.jpg\")\n",
    "# pixels = numpy.array(img.getdata()).reshape(img.size[0], img.size[1], 3)"
   ]
  },
  {
   "cell_type": "code",
   "execution_count": 357,
   "metadata": {},
   "outputs": [],
   "source": [
    "# img"
   ]
  },
  {
   "cell_type": "code",
   "execution_count": 358,
   "metadata": {},
   "outputs": [],
   "source": [
    "# pixels.shape"
   ]
  },
  {
   "cell_type": "code",
   "execution_count": 359,
   "metadata": {},
   "outputs": [],
   "source": [
    "img_dir = \"./images/Test_10x5/\"\n",
    "\n",
    "num_bins = 4\n",
    "data_path = os.path.join(img_dir, '*g')\n",
    "files = glob.glob(data_path)\n",
    "binned_rgb_arrays = []\n",
    "\n",
    "for file in files:\n",
    "    unique_cats = {}\n",
    "    cat_numbers, cat_names = [], []\n",
    "    cat_count = 0\n",
    "    \n",
    "    r_bined = []\n",
    "    g_bined = []\n",
    "    b_bined = []\n",
    "    \n",
    "    img = Image.open(file)\n",
    "    rgb = get_pixels_from_img(img)\n",
    "    \n",
    "    filename = os.path.basename(file)\n",
    "    cat_name = filename.split('_')[0]\n",
    "    cat_names.append(cat_name)\n",
    "\n",
    "    if cat_name not in unique_cats:\n",
    "        unique_cats[cat_name] = cat_count\n",
    "        cat_count = cat_count + 1\n",
    "        \n",
    "    cat_numbers.append(unique_cats[cat_name])\n",
    "\n",
    "    for pixels in rgb:\n",
    "        r_bined = linear_binning(pixels[0], num_bins)\n",
    "        g_bined = linear_binning(pixels[1], num_bins)\n",
    "        b_bined = linear_binning(pixels[2], num_bins)\n",
    "\n",
    "    binned_rgb_arrays.append([r_bined, g_bined, b_bined])\n",
    "cat_numbers = numpy.array(cat_numbers)"
   ]
  },
  {
   "cell_type": "markdown",
   "metadata": {},
   "source": [
    "<h3>Laden des Bildsets und Bestimmung der Featurevektoren und Kategorien</h3>\n"
   ]
  },
  {
   "cell_type": "code",
   "execution_count": 360,
   "metadata": {},
   "outputs": [],
   "source": [
    "# # load images\n",
    "# img_dir = \"./images/Test_10x5/\"\n",
    "\n",
    "# thumbnail_pixel_size = 2\n",
    "# data_path = os.path.join(img_dir,'*g')\n",
    "# thumbnail_mAPs = []\n",
    "\n",
    "# for thumbnail_pixel_size in range(thumbnail_pixel_size, 50):\n",
    "#     unique_cats = {}  # all categories\n",
    "#     cat_count = 0\n",
    "#     files = glob.glob(data_path)\n",
    "#     thumbnails, images, features, cat_names, cat_numbers = [], [], [], [], [] \n",
    "\n",
    "#     for file in files:\n",
    "#         img = Image.open(file)\n",
    "#         images.append(img)\n",
    "\n",
    "#         original = get_mean_feature(img)\n",
    "#         features.append(original)\n",
    "\n",
    "#         create_thumbnail(img, thumbnail_pixel_size)\n",
    "#         rgb = get_mean_feature(img)\n",
    "#         thumbnails.append(rgb)\n",
    "\n",
    "#         filename = os.path.basename(file)\n",
    "#         cat_name = filename.split('_')[0]\n",
    "#         cat_names.append(cat_name)\n",
    "\n",
    "#         if cat_name not in unique_cats:\n",
    "#             unique_cats[cat_name] = cat_count\n",
    "#             cat_count = cat_count + 1\n",
    "#         cat_numbers.append(unique_cats[cat_name])\n",
    "\n",
    "#     features = numpy.array(features)\n",
    "#     cat_numbers = numpy.array(cat_numbers)\n",
    "#     thumbnail_pixel_size += 1\n",
    "#     mAP = compute_mean_average_precision(thumbnails, cat_numbers)\n",
    "#     thumbnail_mAPs.append(mAP)\n",
    "    "
   ]
  },
  {
   "cell_type": "markdown",
   "metadata": {},
   "source": [
    "### Laden der  Bilder und berrechnen der Featurevektoren mit Sätigung"
   ]
  },
  {
   "cell_type": "code",
   "execution_count": 361,
   "metadata": {
    "scrolled": true
   },
   "outputs": [],
   "source": [
    "# # load images\n",
    "# img_dir = \"./images/Test_10x5/\"\n",
    "\n",
    "# thumbnail_pixel_size = 2\n",
    "# saturation = 0.2\n",
    "# data_path = os.path.join(img_dir,'*g')\n",
    "# all_mAPs = []\n",
    "\n",
    "# while saturation < 5.0:\n",
    "#     saturation_thumbnail_mAPs = []\n",
    "#     for thumbnail_pixel_size in range(thumbnail_pixel_size, 50):\n",
    "#         unique_cats = {}  # all categories\n",
    "#         cat_count = 0\n",
    "#         files = glob.glob(data_path)\n",
    "#         sat_thumbnails, sat_images, sat_features, sat_cat_names, sat_cat_numbers = [], [], [], [], [] \n",
    "\n",
    "#         for file in files:\n",
    "#             img = Image.open(file)\n",
    "#             sat_images.append(img)\n",
    "\n",
    "#             create_thumbnail(img, thumbnail_pixel_size)\n",
    "#             rgb = get_mean_sat_feature(saturation,img)\n",
    "#             sat_features.append(rgb)\n",
    "\n",
    "#             filename = os.path.basename(file)\n",
    "#             cat_name = filename.split('_')[0]\n",
    "#             sat_cat_names.append(cat_name)\n",
    "\n",
    "#             if cat_name not in unique_cats:\n",
    "#                 unique_cats[cat_name] = cat_count\n",
    "#                 cat_count = cat_count + 1\n",
    "#             sat_cat_numbers.append(unique_cats[cat_name])\n",
    "\n",
    "#         sat_features = numpy.array(sat_features)\n",
    "#         sat_cat_numbers = numpy.array(sat_cat_numbers)\n",
    "#         thumbnail_pixel_size += 1\n",
    "#         mAP = compute_mean_average_precision(sat_features, sat_cat_numbers)\n",
    "#         saturation_thumbnail_mAPs.append(mAP)\n",
    "#     all_mAPs.append(saturation_thumbnail_mAPs)\n",
    "#     thumbnail_pixel_size = 2\n",
    "#     saturation += 0.2"
   ]
  },
  {
   "cell_type": "code",
   "execution_count": 362,
   "metadata": {},
   "outputs": [],
   "source": [
    "# cat_numbers"
   ]
  },
  {
   "cell_type": "code",
   "execution_count": 363,
   "metadata": {},
   "outputs": [],
   "source": [
    "# unique_cats"
   ]
  },
  {
   "cell_type": "code",
   "execution_count": 364,
   "metadata": {},
   "outputs": [],
   "source": [
    "#features"
   ]
  },
  {
   "cell_type": "code",
   "execution_count": 365,
   "metadata": {},
   "outputs": [],
   "source": [
    "#cat_count"
   ]
  },
  {
   "cell_type": "markdown",
   "metadata": {},
   "source": [
    "## Anzeige der Bilder und Featurevektoren\n"
   ]
  },
  {
   "cell_type": "code",
   "execution_count": 366,
   "metadata": {},
   "outputs": [],
   "source": [
    "# rows, cols = 5, 10\n",
    "# plt.figure(figsize=(12,8))\n",
    "# for i in range(rows*cols):\n",
    "#     plt.subplot(rows, cols, i+1)\n",
    "#     plt.imshow(images[i])\n",
    "#     plt.axis('off')"
   ]
  },
  {
   "cell_type": "markdown",
   "metadata": {},
   "source": [
    "<h3> Mean Image from Original Image </h3>"
   ]
  },
  {
   "cell_type": "code",
   "execution_count": 367,
   "metadata": {
    "scrolled": false
   },
   "outputs": [],
   "source": [
    "# # Zeige Feature-Visualisierung als Farbe\n",
    "# plt.figure(figsize=(12,6))\n",
    "# for i in range(rows*cols):\n",
    "#     plt.subplot(rows, cols, i+1)\n",
    "#     data = numpy.zeros([1, 1, 3], dtype=numpy.uint8)\n",
    "#     data[0,0,:] = features[i] \n",
    "#     mean_img = Image.fromarray(data)\n",
    "#     plt.imshow(mean_img)\n",
    "#     plt.axis('off');"
   ]
  },
  {
   "cell_type": "markdown",
   "metadata": {},
   "source": [
    "### Mean Image from Thumbnails "
   ]
  },
  {
   "cell_type": "code",
   "execution_count": 368,
   "metadata": {},
   "outputs": [],
   "source": [
    "# # Zeige Feature-Visualisierung als Farbe\n",
    "# plt.figure(figsize=(12,6))\n",
    "# for i in range(rows*cols):\n",
    "#     plt.subplot(rows, cols, i+1)\n",
    "#     data = numpy.zeros([1, 1, 3], dtype=numpy.uint8)\n",
    "#     data[0,0,:] = thumbnails[i] \n",
    "#     mean_img = Image.fromarray(data)\n",
    "#     plt.imshow(mean_img)\n",
    "#     plt.axis('off')"
   ]
  },
  {
   "cell_type": "markdown",
   "metadata": {},
   "source": [
    "### Saturation Mean Image Feature Vector"
   ]
  },
  {
   "cell_type": "code",
   "execution_count": 369,
   "metadata": {},
   "outputs": [],
   "source": [
    "# # Zeige Feature-Visualisierung als Farbe\n",
    "# plt.figure(figsize=(12,6))\n",
    "# for i in range(rows*cols):\n",
    "#     plt.subplot(rows, cols, i+1)\n",
    "#     data = numpy.zeros([1, 1, 3], dtype=numpy.uint8)\n",
    "#     data[0,0,:] = sat_features[i] \n",
    "#     mean_img = Image.fromarray(data)\n",
    "#     plt.imshow(mean_img)\n",
    "#     plt.axis('off')"
   ]
  },
  {
   "cell_type": "code",
   "execution_count": 370,
   "metadata": {
    "scrolled": true
   },
   "outputs": [],
   "source": [
    "# # Zeige Feature-Vektoren als Barplot\n",
    "# index = numpy.arange(0, features[0].shape[0]); # Zahlen von 0 bis 2 erzuegen\n",
    "# plt.figure(figsize=(12,6))\n",
    "# for i in range(rows*cols):\n",
    "#     plt.subplot(rows, cols, i+1)\n",
    "#     plt.bar(index, features[i], width=0.6)\n",
    "#     plt.ylim(0, 255)"
   ]
  },
  {
   "cell_type": "markdown",
   "metadata": {},
   "source": [
    "### Zeichne binned histogramme"
   ]
  },
  {
   "cell_type": "code",
   "execution_count": 380,
   "metadata": {},
   "outputs": [
    {
     "data": {
      "image/png": "[encoded data removed]",
      "text/plain": [
       "<Figure size 432x288 with 1 Axes>"
      ]
     },
     "metadata": {},
     "output_type": "display_data"
    },
    {
     "data": {
      "image/png": "[encoded data removed]",
      "text/plain": [
       "<Figure size 432x288 with 1 Axes>"
      ]
     },
     "metadata": {},
     "output_type": "display_data"
    },
    {
     "data": {
      "image/png": "[encoded data removed]",
      "text/plain": [
       "<Figure size 432x288 with 1 Axes>"
      ]
     },
     "metadata": {},
     "output_type": "display_data"
    }
   ],
   "source": [
    "elem = binned_rgb_arrays[3]\n",
    "index = numpy.arange(num_bins)\n",
    "\n",
    "x = elem[0]\n",
    "y = elem[1]\n",
    "z = elem[2]\n",
    "\n",
    "x = Counter(x)\n",
    "y = Counter(y)\n",
    "z = Counter(z)\n",
    "\n",
    "r = []\n",
    "g = []\n",
    "b = []\n",
    "\n",
    "for i in range(0, num_bins):\n",
    "    r.append(x[i])\n",
    "    g.append(y[i])\n",
    "    b.append(z[i])\n",
    "\n",
    "plt.bar(index, r, color=['r'])\n",
    "plt.show()\n",
    "\n",
    "plt.bar(index, g, color=['g'])\n",
    "plt.show()\n",
    "\n",
    "plt.bar(index, b, color=['b'])\n",
    "plt.show()"
   ]
  },
  {
   "cell_type": "markdown",
   "metadata": {},
   "source": [
    "### 3D Histogram "
   ]
  },
  {
   "cell_type": "code",
   "execution_count": 381,
   "metadata": {},
   "outputs": [
    {
     "data": {
      "image/png": "[encoded data removed]",
      "text/plain": [
       "<Figure size 432x288 with 1 Axes>"
      ]
     },
     "metadata": {},
     "output_type": "display_data"
    }
   ],
   "source": [
    "elem = binned_rgb_arrays[3]\n",
    "fig = plt.figure()\n",
    "ax = fig.add_subplot(111, projection='3d')\n",
    "\n",
    "x = elem[0]\n",
    "y = elem[1]\n",
    "z = elem[2]\n",
    "\n",
    "c = Counter(zip(x,y,z))\n",
    "s = [c[(xx,yy,zz)] for xx,yy,zz in zip(x,y,z)]\n",
    "\n",
    "ax.scatter(x, y, z, c=z, s=s)\n",
    "\n",
    "ax.set_xlabel('r')\n",
    "ax.set_ylabel('g')    \n",
    "ax.set_zlabel('b')\n",
    "\n",
    "plt.show()"
   ]
  },
  {
   "cell_type": "markdown",
   "metadata": {},
   "source": [
    "### mAP of binned arrays"
   ]
  },
  {
   "cell_type": "code",
   "execution_count": null,
   "metadata": {},
   "outputs": [],
   "source": []
  },
  {
   "cell_type": "code",
   "execution_count": 382,
   "metadata": {},
   "outputs": [
    {
     "data": {
      "image/png": "[encoded data removed]",
      "text/plain": [
       "<PIL.JpegImagePlugin.JpegImageFile image mode=RGB size=128x88 at 0x7FCD5E0662B0>"
      ]
     },
     "execution_count": 382,
     "metadata": {},
     "output_type": "execute_result"
    }
   ],
   "source": [
    "file = files[3]\n",
    "img = Image.open(file)\n",
    "img"
   ]
  },
  {
   "cell_type": "code",
   "execution_count": 350,
   "metadata": {},
   "outputs": [],
   "source": [
    "# mAP = compute_mean_average_precision(features, cat_numbers)\n",
    "# msg = \"mAP = {0:5.3f}\" \n",
    "# str = msg.format(mAP)\n",
    "# print(str)"
   ]
  },
  {
   "cell_type": "markdown",
   "metadata": {},
   "source": [
    "## Test chain to showthe mAP without saturation"
   ]
  },
  {
   "cell_type": "code",
   "execution_count": null,
   "metadata": {},
   "outputs": [],
   "source": [
    "# plt.plot(thumbnail_mAPs)\n",
    "# plt.ylim(0.56, 0.61)\n",
    "# plt.show()"
   ]
  },
  {
   "cell_type": "markdown",
   "metadata": {},
   "source": [
    "### Test chain to show the mAP with saturation"
   ]
  },
  {
   "cell_type": "code",
   "execution_count": null,
   "metadata": {},
   "outputs": [],
   "source": [
    "# saturation = 0.2\n",
    "# for i in reversed(all_mAPs):\n",
    "#     plt.subplot(211)\n",
    "#     plt.ylim(0.2, 0.5)\n",
    "#     plt.xlim(2,50)\n",
    "#     plt.plot(i, label=saturation)\n",
    "#     saturation+=0.2\n",
    "#     plt.legend(bbox_to_anchor=(1.05, 1), loc=2, borderaxespad=0.)\n",
    "#     plt.show()"
   ]
  },
  {
   "cell_type": "code",
   "execution_count": null,
   "metadata": {},
   "outputs": [],
   "source": []
  }
 ],
 "metadata": {
  "kernelspec": {
   "display_name": "Python 3",
   "language": "python",
   "name": "python3"
  },
  "language_info": {
   "codemirror_mode": {
    "name": "ipython",
    "version": 3
   },
   "file_extension": ".py",
   "mimetype": "text/x-python",
   "name": "python",
   "nbconvert_exporter": "python",
   "pygments_lexer": "ipython3",
   "version": "3.6.5"
  }
 },
 "nbformat": 4,
 "nbformat_minor": 2
}
